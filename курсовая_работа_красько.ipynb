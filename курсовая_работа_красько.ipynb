{
 "cells": [
  {
   "cell_type": "markdown",
   "metadata": {},
   "source": [
    "# Курсовая работа\n",
    " Выполнила:\n",
    " студента группы БФИ2202\n",
    " Красько А.Л."
   ]
  },
  {
   "cell_type": "markdown",
   "metadata": {},
   "source": [
    " Красько А.Л."
   ]
  },
  {
   "cell_type": "code",
   "execution_count": 231,
   "metadata": {},
   "outputs": [],
   "source": [
    "import csv\n",
    "\n",
    "CAPACITY = 10\n",
    "PATH = 'sales_data.csv'\n"
   ]
  },
  {
   "cell_type": "markdown",
   "metadata": {},
   "source": [
    "Сохраняем данные в хэш-таблицу:"
   ]
  },
  {
   "cell_type": "code",
   "execution_count": 232,
   "metadata": {},
   "outputs": [],
   "source": [
    "class Node:\n",
    "    def __init__(self, key, value):\n",
    "        self.key = key\n",
    "        self.value = value\n",
    "        self.next = None\n",
    "\n",
    "\n",
    "class HashTable: \n",
    "    def __init__(self, capacity):\n",
    "        self.capacity = capacity\n",
    "        self.size = 0\n",
    "        self.table = [None] * capacity\n",
    "\n",
    "    def _hash(self, key):\n",
    "        return hash(key) % self.capacity\n",
    "    \n",
    "    def insert(self, key, value):\n",
    "        index = self._hash(key)\n",
    "        if self.table[index] is None:\n",
    "            self.table[index] = Node(key, value)\n",
    "            self.size += 1\n",
    "        else:\n",
    "            current = self.table[index]\n",
    "            while current: \n",
    "                if current.key == key:\n",
    "                    current.value = value\n",
    "                    return\n",
    "                current = current.next\n",
    "            new_node = Node(key, value)\n",
    "            new_node.next = self.table[index]\n",
    "            self.table[index] = new_node\n",
    "            self.size += 1\n",
    "            if self.size > 0.8 * self.capacity:\n",
    "                self.resize()\n",
    "        \n",
    "    def search(self, key):\n",
    "        index = self._hash(key)\n",
    "        current = self.table[index]\n",
    "        while current:\n",
    "            if current.key == key:\n",
    "                return current.value\n",
    "            current = current.next\n",
    "        raise KeyError(key)\n",
    "\n",
    "    def resize(self):\n",
    "        new_capacity = self.capacity * 2\n",
    "        new_table = [None] * new_capacity\n",
    "        for i in range(self.capacity):\n",
    "            node = self.table[i]\n",
    "            while node:\n",
    "                index = self._hash(node.key)\n",
    "                if new_table[index]:\n",
    "                    new_node = new_table[index]\n",
    "                    while new_node.next:\n",
    "                        new_node = new_node.next\n",
    "                    new_node.next = Node(node.key, node.value)\n",
    "                else:\n",
    "                    new_table[index] = Node(node.key, node.value)\n",
    "                node = node.next\n",
    "        self.capacity = new_capacity\n",
    "        self.table = new_table\n",
    "    \n",
    "    def get_table(self): \n",
    "        elements = [] \n",
    "        for i in range(self.capacity): \n",
    "            current = self.table[i] \n",
    "            while current: \n",
    "                elements.append((current.key, current.value)) \n",
    "                current = current.next\n",
    "        return elements"
   ]
  },
  {
   "cell_type": "code",
   "execution_count": 233,
   "metadata": {},
   "outputs": [],
   "source": [
    "def import_data(file_path: str, data: HashTable):\n",
    "    \"\"\"Импорт данных из cvs файла.\"\"\"\n",
    "    with open(file_path, 'r', encoding='utf-8') as file:\n",
    "        reader = csv.DictReader(file)\n",
    "        for row in reader:\n",
    "            data.insert(row['Название товара'], {'quantity': float(row['Количество продаж']), 'price': float(row['Цена за единицу'])})\n",
    "    return data\n"
   ]
  },
  {
   "cell_type": "code",
   "execution_count": 234,
   "metadata": {},
   "outputs": [],
   "source": [
    "def quick_sort(array: list, sort_by):\n",
    "    \"\"\"Быстрая сортировка.\"\"\"\n",
    "    if len(array) <= 1:\n",
    "        return array\n",
    "    middle_element_index = len(array) // 2\n",
    "    if sort_by == 'revenue':\n",
    "        pivot = array[middle_element_index][1]['quantity'] * array[middle_element_index][1]['price']\n",
    "    else:\n",
    "        pivot = array[middle_element_index][0]\n",
    "    left, center, right = partition(array, pivot, sort_by)\n",
    "    return quick_sort(left, sort_by=sort_by) + center + quick_sort(right, sort_by=sort_by)\n",
    "\n",
    "def partition(array, pivot, sort_by):\n",
    "    left, center, right = [], [], []\n",
    "    for item in array:\n",
    "        if sort_by == 'revenue':\n",
    "            parametr = item[1]['quantity']*item[1]['price']\n",
    "        else:\n",
    "            parametr = item[0]\n",
    "        if parametr > pivot:\n",
    "            left.append(item)\n",
    "        elif parametr < pivot:\n",
    "            right.append(item)\n",
    "        elif parametr == pivot:\n",
    "            center.append(item)\n",
    "    return left, center, right\n"
   ]
  },
  {
   "cell_type": "code",
   "execution_count": 245,
   "metadata": {},
   "outputs": [],
   "source": [
    "def bin_search(arr, product_name):\n",
    "    length = len(arr)\n",
    "    data = quick_sort(arr, sort_by='name')\n",
    "    print(*data, sep='\\n')\n",
    "    left_point = 0\n",
    "    right_point = length - 1\n",
    "    while left_point < right_point:\n",
    "        mid = (left_point + right_point) // 2\n",
    "        print(data[mid][0])\n",
    "        if data[mid][0] > product_name:\n",
    "            left_point = mid + 1\n",
    "        elif data[mid][0] == product_name:\n",
    "            print(f'\\nТовар {product_name} найден! {data[mid]}')\n",
    "            return data[mid]\n",
    "        else:\n",
    "            right_point = mid - 1\n",
    "    return 'Товар не найден'"
   ]
  },
  {
   "cell_type": "code",
   "execution_count": 236,
   "metadata": {},
   "outputs": [],
   "source": [
    "def calculate_revenue(data: list):\n",
    "    sorted_data = quick_sort(data, sort_by='revenue')\n",
    "    total_revenue = 0\n",
    "    max_quantity = 0\n",
    "    print('Товар, отсортированный по выруxrt')\n",
    "    for item in sorted_data:\n",
    "        revenue = item[1]['quantity']*item[1]['price']\n",
    "        total_revenue += revenue\n",
    "        if item[1]['quantity'] > max_quantity:\n",
    "            max_quantity = item[1]['quantity']\n",
    "        print(item, f' revenue: {revenue:.2f}')\n",
    "    max_revenue = sorted_data[0][1]['quantity']*sorted_data[0][1]['price']\n"
   ]
  },
  {
   "cell_type": "code",
   "execution_count": 247,
   "metadata": {},
   "outputs": [
    {
     "name": "stdout",
     "output_type": "stream",
     "text": [
      "('WidgetC', {'quantity': 20.0, 'price': 22.99})\n",
      "('WidgetA', {'quantity': 25.0, 'price': 19.99})\n",
      "('ThingamajigD', {'quantity': 12.0, 'price': 27.99})\n",
      "('ThingamajigB', {'quantity': 27.0, 'price': 24.99})\n",
      "('TableB', {'quantity': 3.0, 'price': 149.99})\n",
      "('SofaE', {'quantity': 2.0, 'price': 599.99})\n",
      "('RugD', {'quantity': 7.0, 'price': 79.99})\n",
      "('LampC', {'quantity': 12.0, 'price': 29.99})\n",
      "('GizmoZ', {'quantity': 32.0, 'price': 14.99})\n",
      "('GizmoA', {'quantity': 15.0, 'price': 12.99})\n",
      "('GadgetY', {'quantity': 30.0, 'price': 19.99})\n",
      "('GadgetX', {'quantity': 18.0, 'price': 29.99})\n",
      "('DoohickeyZ', {'quantity': 22.0, 'price': 14.99})\n",
      "('DoohickeyY', {'quantity': 41.0, 'price': 9.99})\n",
      "('ChairA', {'quantity': 5.0, 'price': 89.99})\n",
      "LampC\n",
      "ThingamajigB\n",
      "WidgetA\n"
     ]
    },
    {
     "data": {
      "text/plain": [
       "'Товар не найден'"
      ]
     },
     "execution_count": 247,
     "metadata": {},
     "output_type": "execute_result"
    }
   ],
   "source": [
    "data = import_data(PATH, HashTable(CAPACITY)).get_table()\n",
    "bin_search(data, 'WidgetC')\n"
   ]
  }
 ],
 "metadata": {
  "kernelspec": {
   "display_name": "venv",
   "language": "python",
   "name": "python3"
  },
  "language_info": {
   "codemirror_mode": {
    "name": "ipython",
    "version": 3
   },
   "file_extension": ".py",
   "mimetype": "text/x-python",
   "name": "python",
   "nbconvert_exporter": "python",
   "pygments_lexer": "ipython3",
   "version": "3.9.18"
  }
 },
 "nbformat": 4,
 "nbformat_minor": 2
}
